{
 "cells": [
  {
   "cell_type": "code",
   "execution_count": 2,
   "id": "5b8ce294",
   "metadata": {},
   "outputs": [],
   "source": [
    "import joblib"
   ]
  },
  {
   "cell_type": "code",
   "execution_count": 3,
   "id": "9f6636ef",
   "metadata": {},
   "outputs": [],
   "source": [
    "model = joblib.load('fraud_detection_model.pkl')\n",
    "scaler = joblib.load('scaler.pkl')\n"
   ]
  },
  {
   "cell_type": "code",
   "execution_count": 4,
   "id": "00432f15",
   "metadata": {},
   "outputs": [],
   "source": [
    "new_data = [[2500, 13, 2.5, 1, 1]]"
   ]
  },
  {
   "cell_type": "code",
   "execution_count": 5,
   "id": "00181b1a",
   "metadata": {},
   "outputs": [
    {
     "name": "stderr",
     "output_type": "stream",
     "text": [
      "C:\\Users\\bhava\\anaconda3\\lib\\site-packages\\sklearn\\base.py:450: UserWarning: X does not have valid feature names, but StandardScaler was fitted with feature names\n",
      "  warnings.warn(\n"
     ]
    }
   ],
   "source": [
    "new_data_scaled = scaler.transform(new_data)"
   ]
  },
  {
   "cell_type": "code",
   "execution_count": 6,
   "id": "15ddb63b",
   "metadata": {},
   "outputs": [],
   "source": [
    "prediction = model.predict(new_data_scaled)"
   ]
  },
  {
   "cell_type": "code",
   "execution_count": 7,
   "id": "b0dfdbe1",
   "metadata": {},
   "outputs": [
    {
     "name": "stdout",
     "output_type": "stream",
     "text": [
      "Legitimate Transaction\n"
     ]
    }
   ],
   "source": [
    "print(\"Fraudulent Transaction\" if prediction[0] == 1 else \"Legitimate Transaction\")"
   ]
  },
  {
   "cell_type": "code",
   "execution_count": null,
   "id": "9410fb9d",
   "metadata": {},
   "outputs": [],
   "source": []
  }
 ],
 "metadata": {
  "kernelspec": {
   "display_name": "Python 3 (ipykernel)",
   "language": "python",
   "name": "python3"
  },
  "language_info": {
   "codemirror_mode": {
    "name": "ipython",
    "version": 3
   },
   "file_extension": ".py",
   "mimetype": "text/x-python",
   "name": "python",
   "nbconvert_exporter": "python",
   "pygments_lexer": "ipython3",
   "version": "3.9.13"
  }
 },
 "nbformat": 4,
 "nbformat_minor": 5
}
